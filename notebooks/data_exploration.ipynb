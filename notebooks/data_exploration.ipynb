{
 "cells": [
  {
   "cell_type": "code",
   "execution_count": null,
   "id": "260305d1",
   "metadata": {},
   "outputs": [],
   "source": [
    "# Helper: retry and wait helpers for Milvus operations\n",
    "import time\n",
    "from typing import Callable, Any\n",
    "\n",
    "def retry_op(fn: Callable, *args, retries: int = 6, delay: float = 1.0, backoff: float = 2.0, **kwargs) -> Any:\n",
    "    \"\"\"Run fn(*args, **kwargs) with retries and exponential backoff. Raises last exception if all attempts fail.\"\"\"\n",
    "    last_exc = None\n",
    "    for i in range(retries):\n",
    "        try:\n",
    "            return fn(*args, **kwargs)\n",
    "        except Exception as e:\n",
    "            last_exc = e\n",
    "            wait = delay * (backoff ** i)\n",
    "            print(f\"Operation {getattr(fn, '__name__', str(fn))} failed (attempt {i+1}/{retries}): {e}. Retrying in {wait:.1f}s...\")\n",
    "            time.sleep(wait)\n",
    "    raise last_exc\n",
    "\n",
    "\n",
    "def wait_for_milvus_ready(client, timeout: float = 120.0, poll: float = 2.0) -> None:\n",
    "    \"\"\"Poll the Milvus client until it responds or timeout is reached.\"\"\"\n",
    "    start = time.time()\n",
    "    while time.time() - start < timeout:\n",
    "        try:\n",
    "            # list_collections is a light-weight health call; if it works Milvus is responsive\n",
    "            _ = client.list_collections()\n",
    "            print(\"Milvus is responsive\")\n",
    "            return\n",
    "        except Exception as e:\n",
    "            print(f\"Milvus not ready yet: {e}. Waiting {poll}s...\")\n",
    "            time.sleep(poll)\n",
    "    raise RuntimeError(f\"Milvus did not become ready within {timeout} seconds\")\n"
   ]
  },
  {
   "cell_type": "code",
   "execution_count": 1,
   "id": "49fc17bf",
   "metadata": {
    "ExecuteTime": {
     "end_time": "2025-09-28T21:54:19.171625Z",
     "start_time": "2025-09-28T21:54:16.757824Z"
    }
   },
   "outputs": [],
   "source": [
    "# Load all required Libraries\n",
    "import pandas as pd\n",
    "import transformers, torch\n",
    "from transformers import AutoModelForSeq2SeqLM, AutoTokenizer, AutoModelForCausalLM\n",
    "from datasets import Dataset"
   ]
  },
  {
   "cell_type": "code",
   "execution_count": 2,
   "id": "06ee074e",
   "metadata": {
    "ExecuteTime": {
     "end_time": "2025-09-28T21:54:19.994133Z",
     "start_time": "2025-09-28T21:54:19.188473Z"
    }
   },
   "outputs": [],
   "source": [
    "from pymilvus import MilvusClient, FieldSchema, CollectionSchema, DataType\n",
    "\n",
    "from ragas import evaluate\n",
    "from ragas.metrics import (\n",
    "    faithfulness,\n",
    "    answer_relevancy,\n",
    "    context_recall,\n",
    "    context_precision,\n",
    ")"
   ]
  },
  {
   "cell_type": "markdown",
   "id": "275ab245",
   "metadata": {},
   "source": [
    "# Read Passages from the Datasets and Drop rows if they are NA or empty"
   ]
  },
  {
   "cell_type": "code",
   "execution_count": 3,
   "id": "ff0e11a5",
   "metadata": {
    "ExecuteTime": {
     "end_time": "2025-09-28T21:54:21.731116Z",
     "start_time": "2025-09-28T21:54:20.099085Z"
    }
   },
   "outputs": [
    {
     "name": "stdout",
     "output_type": "stream",
     "text": [
      "(3200, 1)\n"
     ]
    },
    {
     "data": {
      "text/html": [
       "<div>\n",
       "<style scoped>\n",
       "    .dataframe tbody tr th:only-of-type {\n",
       "        vertical-align: middle;\n",
       "    }\n",
       "\n",
       "    .dataframe tbody tr th {\n",
       "        vertical-align: top;\n",
       "    }\n",
       "\n",
       "    .dataframe thead th {\n",
       "        text-align: right;\n",
       "    }\n",
       "</style>\n",
       "<table border=\"1\" class=\"dataframe\">\n",
       "  <thead>\n",
       "    <tr style=\"text-align: right;\">\n",
       "      <th></th>\n",
       "      <th>passage</th>\n",
       "    </tr>\n",
       "    <tr>\n",
       "      <th>id</th>\n",
       "      <th></th>\n",
       "    </tr>\n",
       "  </thead>\n",
       "  <tbody>\n",
       "    <tr>\n",
       "      <th>0</th>\n",
       "      <td>Uruguay (official full name in  ; pron.  , Eas...</td>\n",
       "    </tr>\n",
       "    <tr>\n",
       "      <th>1</th>\n",
       "      <td>It is bordered by Brazil to the north, by Arge...</td>\n",
       "    </tr>\n",
       "    <tr>\n",
       "      <th>2</th>\n",
       "      <td>Montevideo was founded by the Spanish in the e...</td>\n",
       "    </tr>\n",
       "    <tr>\n",
       "      <th>3</th>\n",
       "      <td>The economy is largely based in agriculture (m...</td>\n",
       "    </tr>\n",
       "    <tr>\n",
       "      <th>4</th>\n",
       "      <td>According to Transparency International, Urugu...</td>\n",
       "    </tr>\n",
       "  </tbody>\n",
       "</table>\n",
       "</div>"
      ],
      "text/plain": [
       "                                              passage\n",
       "id                                                   \n",
       "0   Uruguay (official full name in  ; pron.  , Eas...\n",
       "1   It is bordered by Brazil to the north, by Arge...\n",
       "2   Montevideo was founded by the Spanish in the e...\n",
       "3   The economy is largely based in agriculture (m...\n",
       "4   According to Transparency International, Urugu..."
      ]
     },
     "execution_count": 3,
     "metadata": {},
     "output_type": "execute_result"
    }
   ],
   "source": [
    "passages = pd.read_parquet(\"hf://datasets/rag-datasets/rag-mini-wikipedia/data/passages.parquet/part.0.parquet\")\n",
    "print(passages.shape)\n",
    "passages.head()"
   ]
  },
  {
   "cell_type": "code",
   "execution_count": 4,
   "id": "b41e87e5",
   "metadata": {
    "ExecuteTime": {
     "end_time": "2025-09-28T21:54:21.774448Z",
     "start_time": "2025-09-28T21:54:21.769351Z"
    }
   },
   "outputs": [
    {
     "data": {
      "text/html": [
       "<div>\n",
       "<style scoped>\n",
       "    .dataframe tbody tr th:only-of-type {\n",
       "        vertical-align: middle;\n",
       "    }\n",
       "\n",
       "    .dataframe tbody tr th {\n",
       "        vertical-align: top;\n",
       "    }\n",
       "\n",
       "    .dataframe thead th {\n",
       "        text-align: right;\n",
       "    }\n",
       "</style>\n",
       "<table border=\"1\" class=\"dataframe\">\n",
       "  <thead>\n",
       "    <tr style=\"text-align: right;\">\n",
       "      <th></th>\n",
       "      <th>id</th>\n",
       "      <th>passage</th>\n",
       "    </tr>\n",
       "  </thead>\n",
       "  <tbody>\n",
       "    <tr>\n",
       "      <th>0</th>\n",
       "      <td>0</td>\n",
       "      <td>Uruguay (official full name in  ; pron.  , Eas...</td>\n",
       "    </tr>\n",
       "    <tr>\n",
       "      <th>1</th>\n",
       "      <td>1</td>\n",
       "      <td>It is bordered by Brazil to the north, by Arge...</td>\n",
       "    </tr>\n",
       "    <tr>\n",
       "      <th>2</th>\n",
       "      <td>2</td>\n",
       "      <td>Montevideo was founded by the Spanish in the e...</td>\n",
       "    </tr>\n",
       "    <tr>\n",
       "      <th>3</th>\n",
       "      <td>3</td>\n",
       "      <td>The economy is largely based in agriculture (m...</td>\n",
       "    </tr>\n",
       "    <tr>\n",
       "      <th>4</th>\n",
       "      <td>4</td>\n",
       "      <td>According to Transparency International, Urugu...</td>\n",
       "    </tr>\n",
       "  </tbody>\n",
       "</table>\n",
       "</div>"
      ],
      "text/plain": [
       "   id                                            passage\n",
       "0   0  Uruguay (official full name in  ; pron.  , Eas...\n",
       "1   1  It is bordered by Brazil to the north, by Arge...\n",
       "2   2  Montevideo was founded by the Spanish in the e...\n",
       "3   3  The economy is largely based in agriculture (m...\n",
       "4   4  According to Transparency International, Urugu..."
      ]
     },
     "execution_count": 4,
     "metadata": {},
     "output_type": "execute_result"
    }
   ],
   "source": [
    "# reshape the table by adding id column\n",
    "passages_df = passages.reset_index()\n",
    "passages_df.columns = ['id', 'passage']\n",
    "passages_df.head()"
   ]
  },
  {
   "cell_type": "code",
   "execution_count": 5,
   "id": "5e34f60a",
   "metadata": {
    "ExecuteTime": {
     "end_time": "2025-09-28T21:54:21.826448Z",
     "start_time": "2025-09-28T21:54:21.821188Z"
    }
   },
   "outputs": [
    {
     "name": "stdout",
     "output_type": "stream",
     "text": [
      "Number of NA passages: 0\n",
      "Number of empty passages: 0\n"
     ]
    }
   ],
   "source": [
    "# check NA or empty passages\n",
    "n_na = passages_df['passage'].isna().sum()\n",
    "n_empty = (passages_df['passage'].str.strip() == \"\").sum()\n",
    "\n",
    "print(f\"Number of NA passages: {n_na}\")\n",
    "print(f\"Number of empty passages: {n_empty}\")"
   ]
  },
  {
   "cell_type": "markdown",
   "id": "45249cd2",
   "metadata": {},
   "source": [
    "# Do EDA on the passage dataset\n",
    "- You can try to find the maximum and minimum length of the passages before indexing (just a direction)"
   ]
  },
  {
   "cell_type": "code",
   "execution_count": 6,
   "id": "aa0d0a82",
   "metadata": {
    "ExecuteTime": {
     "end_time": "2025-09-28T21:54:21.926890Z",
     "start_time": "2025-09-28T21:54:21.925132Z"
    }
   },
   "outputs": [],
   "source": [
    "# Code for EDA\n",
    "import matplotlib.pyplot as plt\n",
    "import seaborn as sns"
   ]
  },
  {
   "cell_type": "markdown",
   "id": "0694def6",
   "metadata": {},
   "source": [
    "### 1. Explore the data and find some duplicated values"
   ]
  },
  {
   "cell_type": "code",
   "execution_count": 7,
   "id": "e3d904fc",
   "metadata": {
    "ExecuteTime": {
     "end_time": "2025-09-28T21:54:23.626613Z",
     "start_time": "2025-09-28T21:54:23.616894Z"
    }
   },
   "outputs": [
    {
     "data": {
      "text/plain": [
       "count             3200\n",
       "unique            3196\n",
       "top       ; Government\n",
       "freq                 3\n",
       "Name: passage, dtype: object"
      ]
     },
     "execution_count": 7,
     "metadata": {},
     "output_type": "execute_result"
    }
   ],
   "source": [
    "passages_df['passage'].describe()\n",
    "# maybe have some duplicated values"
   ]
  },
  {
   "cell_type": "code",
   "execution_count": 8,
   "id": "980e37b1",
   "metadata": {
    "ExecuteTime": {
     "end_time": "2025-09-28T21:54:26.993194Z",
     "start_time": "2025-09-28T21:54:26.985585Z"
    }
   },
   "outputs": [
    {
     "data": {
      "text/html": [
       "<div>\n",
       "<style scoped>\n",
       "    .dataframe tbody tr th:only-of-type {\n",
       "        vertical-align: middle;\n",
       "    }\n",
       "\n",
       "    .dataframe tbody tr th {\n",
       "        vertical-align: top;\n",
       "    }\n",
       "\n",
       "    .dataframe thead th {\n",
       "        text-align: right;\n",
       "    }\n",
       "</style>\n",
       "<table border=\"1\" class=\"dataframe\">\n",
       "  <thead>\n",
       "    <tr style=\"text-align: right;\">\n",
       "      <th></th>\n",
       "      <th>passage</th>\n",
       "      <th>cnt</th>\n",
       "    </tr>\n",
       "  </thead>\n",
       "  <tbody>\n",
       "    <tr>\n",
       "      <th>0</th>\n",
       "      <td>; Government</td>\n",
       "      <td>3</td>\n",
       "    </tr>\n",
       "    <tr>\n",
       "      <th>1</th>\n",
       "      <td>* Pratt, H., \"Nikola Tesla 1856 1943\", Proceed...</td>\n",
       "      <td>2</td>\n",
       "    </tr>\n",
       "    <tr>\n",
       "      <th>2</th>\n",
       "      <td>|-</td>\n",
       "      <td>2</td>\n",
       "    </tr>\n",
       "    <tr>\n",
       "      <th>3</th>\n",
       "      <td>Wolves have scent glands all over their bodies...</td>\n",
       "      <td>1</td>\n",
       "    </tr>\n",
       "    <tr>\n",
       "      <th>4</th>\n",
       "      <td>Many of the European immigrants arrived in Uru...</td>\n",
       "      <td>1</td>\n",
       "    </tr>\n",
       "  </tbody>\n",
       "</table>\n",
       "</div>"
      ],
      "text/plain": [
       "                                             passage  cnt\n",
       "0                                       ; Government    3\n",
       "1  * Pratt, H., \"Nikola Tesla 1856 1943\", Proceed...    2\n",
       "2                                                 |-    2\n",
       "3  Wolves have scent glands all over their bodies...    1\n",
       "4  Many of the European immigrants arrived in Uru...    1"
      ]
     },
     "execution_count": 8,
     "metadata": {},
     "output_type": "execute_result"
    }
   ],
   "source": [
    "counts_df = passages_df['passage'].value_counts().reset_index()\n",
    "counts_df.columns = ['passage', 'cnt']\n",
    "counts_df.head(5)"
   ]
  },
  {
   "cell_type": "code",
   "execution_count": 9,
   "id": "bc02ee47",
   "metadata": {
    "ExecuteTime": {
     "end_time": "2025-09-28T21:54:27.436729Z",
     "start_time": "2025-09-28T21:54:27.430679Z"
    }
   },
   "outputs": [
    {
     "data": {
      "text/html": [
       "<div>\n",
       "<style scoped>\n",
       "    .dataframe tbody tr th:only-of-type {\n",
       "        vertical-align: middle;\n",
       "    }\n",
       "\n",
       "    .dataframe tbody tr th {\n",
       "        vertical-align: top;\n",
       "    }\n",
       "\n",
       "    .dataframe thead th {\n",
       "        text-align: right;\n",
       "    }\n",
       "</style>\n",
       "<table border=\"1\" class=\"dataframe\">\n",
       "  <thead>\n",
       "    <tr style=\"text-align: right;\">\n",
       "      <th></th>\n",
       "      <th>id</th>\n",
       "      <th>passage</th>\n",
       "    </tr>\n",
       "  </thead>\n",
       "  <tbody>\n",
       "    <tr>\n",
       "      <th>825</th>\n",
       "      <td>826</td>\n",
       "      <td>; Government</td>\n",
       "    </tr>\n",
       "    <tr>\n",
       "      <th>1367</th>\n",
       "      <td>1368</td>\n",
       "      <td>; Government</td>\n",
       "    </tr>\n",
       "    <tr>\n",
       "      <th>2373</th>\n",
       "      <td>2374</td>\n",
       "      <td>; Government</td>\n",
       "    </tr>\n",
       "  </tbody>\n",
       "</table>\n",
       "</div>"
      ],
      "text/plain": [
       "        id       passage\n",
       "825    826  ; Government\n",
       "1367  1368  ; Government\n",
       "2373  2374  ; Government"
      ]
     },
     "execution_count": 9,
     "metadata": {},
     "output_type": "execute_result"
    }
   ],
   "source": [
    "passages_df[passages_df['passage'] == '; Government']"
   ]
  },
  {
   "cell_type": "code",
   "execution_count": 10,
   "id": "d00b0618",
   "metadata": {
    "ExecuteTime": {
     "end_time": "2025-09-28T21:54:27.743374Z",
     "start_time": "2025-09-28T21:54:27.738574Z"
    }
   },
   "outputs": [
    {
     "data": {
      "text/html": [
       "<div>\n",
       "<style scoped>\n",
       "    .dataframe tbody tr th:only-of-type {\n",
       "        vertical-align: middle;\n",
       "    }\n",
       "\n",
       "    .dataframe tbody tr th {\n",
       "        vertical-align: top;\n",
       "    }\n",
       "\n",
       "    .dataframe thead th {\n",
       "        text-align: right;\n",
       "    }\n",
       "</style>\n",
       "<table border=\"1\" class=\"dataframe\">\n",
       "  <thead>\n",
       "    <tr style=\"text-align: right;\">\n",
       "      <th></th>\n",
       "      <th>id</th>\n",
       "      <th>passage</th>\n",
       "    </tr>\n",
       "  </thead>\n",
       "  <tbody>\n",
       "    <tr>\n",
       "      <th>1511</th>\n",
       "      <td>1512</td>\n",
       "      <td>* Pratt, H., \"Nikola Tesla 1856 1943\", Proceed...</td>\n",
       "    </tr>\n",
       "    <tr>\n",
       "      <th>1517</th>\n",
       "      <td>1518</td>\n",
       "      <td>* Pratt, H., \"Nikola Tesla 1856 1943\", Proceed...</td>\n",
       "    </tr>\n",
       "  </tbody>\n",
       "</table>\n",
       "</div>"
      ],
      "text/plain": [
       "        id                                            passage\n",
       "1511  1512  * Pratt, H., \"Nikola Tesla 1856 1943\", Proceed...\n",
       "1517  1518  * Pratt, H., \"Nikola Tesla 1856 1943\", Proceed..."
      ]
     },
     "execution_count": 10,
     "metadata": {},
     "output_type": "execute_result"
    }
   ],
   "source": [
    "passages_df[passages_df['passage'] == counts_df.iloc[1]['passage']]"
   ]
  },
  {
   "cell_type": "code",
   "execution_count": 11,
   "id": "b1324f0b",
   "metadata": {
    "ExecuteTime": {
     "end_time": "2025-09-28T21:54:31.629613Z",
     "start_time": "2025-09-28T21:54:31.625519Z"
    }
   },
   "outputs": [
    {
     "data": {
      "text/html": [
       "<div>\n",
       "<style scoped>\n",
       "    .dataframe tbody tr th:only-of-type {\n",
       "        vertical-align: middle;\n",
       "    }\n",
       "\n",
       "    .dataframe tbody tr th {\n",
       "        vertical-align: top;\n",
       "    }\n",
       "\n",
       "    .dataframe thead th {\n",
       "        text-align: right;\n",
       "    }\n",
       "</style>\n",
       "<table border=\"1\" class=\"dataframe\">\n",
       "  <thead>\n",
       "    <tr style=\"text-align: right;\">\n",
       "      <th></th>\n",
       "      <th>id</th>\n",
       "      <th>passage</th>\n",
       "    </tr>\n",
       "  </thead>\n",
       "  <tbody>\n",
       "    <tr>\n",
       "      <th>1910</th>\n",
       "      <td>1911</td>\n",
       "      <td>|-</td>\n",
       "    </tr>\n",
       "    <tr>\n",
       "      <th>1911</th>\n",
       "      <td>1912</td>\n",
       "      <td>|-</td>\n",
       "    </tr>\n",
       "  </tbody>\n",
       "</table>\n",
       "</div>"
      ],
      "text/plain": [
       "        id passage\n",
       "1910  1911      |-\n",
       "1911  1912      |-"
      ]
     },
     "execution_count": 11,
     "metadata": {},
     "output_type": "execute_result"
    }
   ],
   "source": [
    "passages_df[passages_df['passage'] == counts_df.iloc[2]['passage']]"
   ]
  },
  {
   "cell_type": "code",
   "execution_count": 12,
   "id": "864a3676",
   "metadata": {
    "ExecuteTime": {
     "end_time": "2025-09-28T21:54:32.447876Z",
     "start_time": "2025-09-28T21:54:32.442183Z"
    }
   },
   "outputs": [
    {
     "name": "stdout",
     "output_type": "stream",
     "text": [
      "(3196, 2)\n"
     ]
    }
   ],
   "source": [
    "# remove duplicates: totally drop 4 values\n",
    "passages_df = passages_df.drop_duplicates(subset=['passage']).reset_index(drop=True)\n",
    "print(passages_df.shape)"
   ]
  },
  {
   "cell_type": "code",
   "execution_count": 13,
   "id": "7729a447",
   "metadata": {
    "ExecuteTime": {
     "end_time": "2025-09-28T21:54:33.109722Z",
     "start_time": "2025-09-28T21:54:33.105343Z"
    }
   },
   "outputs": [
    {
     "name": "stdout",
     "output_type": "stream",
     "text": [
      "Max passage length: 2515\n",
      "Min passage length: 1\n",
      "Mean passage length: 390.30\n"
     ]
    }
   ],
   "source": [
    "passage_lengths = passages_df['passage'].str.len()\n",
    "print(f\"Max passage length: {passage_lengths.max()}\")\n",
    "print(f\"Min passage length: {passage_lengths.min()}\")\n",
    "print(f\"Mean passage length: {passage_lengths.mean():.2f}\")"
   ]
  },
  {
   "cell_type": "code",
   "execution_count": 14,
   "id": "672a5412",
   "metadata": {
    "ExecuteTime": {
     "end_time": "2025-09-28T21:54:37.346058Z",
     "start_time": "2025-09-28T21:54:37.149480Z"
    }
   },
   "outputs": [
    {
     "data": {
      "image/png": "[encoded data removed]",
      "text/plain": [
       "<Figure size 1600x500 with 2 Axes>"
      ]
     },
     "metadata": {},
     "output_type": "display_data"
    }
   ],
   "source": [
    "fig, axes = plt.subplots(1, 2, figsize=(16, 5))\n",
    "\n",
    "sns.histplot(passage_lengths, bins=50, kde=True, ax=axes[0])\n",
    "axes[0].set_title('Distribution of Passage Lengths')\n",
    "axes[0].set_xlabel('Passage Length (characters)')\n",
    "axes[0].set_ylabel('Frequency')\n",
    "\n",
    "sns.boxplot(x=passage_lengths, ax=axes[1])\n",
    "axes[1].set_title('Boxplot of Passage Lengths')\n",
    "axes[1].set_xlabel('Passage Length (characters)')\n",
    "\n",
    "plt.tight_layout()\n",
    "\n",
    "plt.show()"
   ]
  }
 ],
 "metadata": {
  "kernelspec": {
   "display_name": "nlp",
   "language": "python",
   "name": "python3"
  },
  "language_info": {
   "codemirror_mode": {
    "name": "ipython",
    "version": 3
   },
   "file_extension": ".py",
   "mimetype": "text/x-python",
   "name": "python",
   "nbconvert_exporter": "python",
   "pygments_lexer": "ipython3",
   "version": "3.12.2"
  }
 },
 "nbformat": 4,
 "nbformat_minor": 5
}
